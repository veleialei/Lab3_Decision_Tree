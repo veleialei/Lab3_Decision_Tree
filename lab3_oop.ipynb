{
 "cells": [
  {
   "cell_type": "code",
   "execution_count": 76,
   "metadata": {
    "collapsed": true
   },
   "outputs": [],
   "source": [
    "import pandas as pd\n",
    "import numpy as np"
   ]
  },
  {
   "cell_type": "code",
   "execution_count": 77,
   "metadata": {
    "collapsed": true
   },
   "outputs": [],
   "source": [
    "from classifier import classifier\n",
    "\n",
    "class decision_tree(classifier):\n",
    "\n",
    "    def __init__(self):\n",
    "        self.X = None\n",
    "        self.Y = None\n",
    "        self.this_tree = dict()\n",
    "\n",
    "    def fit(self, X, Y):\n",
    "        fit(X, Y, 'g')\n",
    "        \n",
    "    def fit(self, X, Y, method): \n",
    "        self.Y = Y\n",
    "        self.X = X\n",
    "        self.this_tree = self.build_tree(X, Y, method)\n",
    "        return self.this_tree\n",
    "\n",
    "    def build_tree(self, X, Y, method):\n",
    "        # IF there's only one instance or one class, don't continue to split\n",
    "        if len(Y) == 0:\n",
    "            return None\n",
    "            \n",
    "        if len(Y) == 1 or len(self.class_dict(Y)) == 1:\n",
    "            return Y[0]\n",
    "\n",
    "        if len(X[0]) == 1: \n",
    "            label = self.majority(Y)\n",
    "            return label\n",
    "        \n",
    "        if method == \"g\":\n",
    "            best_feature = self.choose_feature_g(X, Y)\n",
    "        elif method == \"e\":\n",
    "            best_feature = self.choose_feature_e(X, Y)\n",
    "\n",
    "        this_tree = dict()\n",
    "        feature_values = [example[best_feature] for example in X]\n",
    "        unique_values = set(feature_values)\n",
    "        \n",
    "        for value in unique_values:\n",
    "            # Build a node with each unique value:\n",
    "            subtree_x, subtree_y = self.split_data(X, Y, best_feature, value)\n",
    "            if best_feature not in this_tree:\n",
    "                this_tree[best_feature] = dict()\n",
    "            if value not in this_tree[best_feature]:\n",
    "                this_tree[best_feature][value] = 0\n",
    "            this_tree[best_feature][value] = self.build_tree(subtree_x, subtree_y, method)\n",
    "        return this_tree\n",
    "    \n",
    "    def predict(self, X):\n",
    "        hyp = []\n",
    "        cur_tree = self.this_tree\n",
    "        for x in X:\n",
    "            hyp.append(self.predictOne(x, cur_tree, -1))        \n",
    "        return hyp\n",
    "    \n",
    "    def predictOne(self, x, cur_tree, index):\n",
    "        if not isinstance(cur_tree, dict):\n",
    "            return cur_tree\n",
    "        \n",
    "        if(index == -1):         \n",
    "            keys = [*cur_tree.keys()]            \n",
    "            return self.predictOne(x, cur_tree[keys[0]], keys[0])\n",
    "        \n",
    "        for key, val in cur_tree.items():\n",
    "            if key == x[index]:\n",
    "                if isinstance(val, dict):\n",
    "                    return self.predictOne(x, val, -1)\n",
    "                else:\n",
    "                    return val\n",
    "\n",
    "    def choose_feature_e(self, X, Y):\n",
    "        entropy = self.entropy(Y)\n",
    "        best_information_gain = 0.\n",
    "        best_feature = -1\n",
    "        for i in range(len(X[0])):  # For each feature\n",
    "            feature_list = [x[i] for x in X]\n",
    "            values = set(feature_list)\n",
    "            entropy_i = 0.\n",
    "            for value in values:\n",
    "                sub_x, sub_y = self.split_data(X, Y, i, value)\n",
    "                prob = len(sub_x) / float(len(X))\n",
    "                entropy_i += prob * self.entropy(sub_y)\n",
    "            info_gain = entropy - entropy_i\n",
    "            if info_gain > best_information_gain:\n",
    "                best_information_gain = info_gain\n",
    "                best_feature = i        \n",
    "        return best_feature\n",
    "    \n",
    "    def choose_feature_g(self, X, Y):\n",
    "        gini = self.gini(Y)\n",
    "        best_information_gain = 0.\n",
    "        best_feature = -1\n",
    "        for i in range(len(X[0])):  # For each feature\n",
    "            feature_list = [x[i] for x in X]\n",
    "            values = set(feature_list)\n",
    "            gini_i = 0.\n",
    "            for value in values:\n",
    "                sub_x, sub_y = self.split_data(X, Y, i, value)\n",
    "                prob = len(sub_x) / float(len(X))\n",
    "                gini_i += prob * self.gini(sub_y)\n",
    "            info_gain = gini - gini_i\n",
    "            if info_gain > best_information_gain:\n",
    "                best_information_gain = info_gain\n",
    "                best_feature = i\n",
    "        return best_feature    \n",
    "    \n",
    "    def gini(self, Y):\n",
    "        size = len(Y)\n",
    "        counts = dict()\n",
    "        for y in Y:\n",
    "            if y not in counts:\n",
    "                counts[y] = 0.\n",
    "            counts[y] += 1.\n",
    "        gini = 0.\n",
    "        for key in counts:\n",
    "            prob = counts[key] / size\n",
    "            gini += prob * (1-prob)\n",
    "        return gini\n",
    "\n",
    "    def entropy(self, Y):\n",
    "        from math import log\n",
    "\n",
    "        size = len(Y)\n",
    "        counts = dict()\n",
    "        for y in Y:\n",
    "            if y not in counts:\n",
    "                counts[y] = 0.\n",
    "            counts[y] += 1.\n",
    "        entropy = 0.\n",
    "        for key in counts:\n",
    "            prob = counts[key] / size\n",
    "            entropy -= prob * log(prob,2)\n",
    "        return entropy\n",
    "\n",
    "    def split_data(self, X, Y, axis, value):\n",
    "        return_x = []\n",
    "        return_y = []\n",
    "\n",
    "        for x, y in (zip(X, Y)):\n",
    "            if x[axis] == value:\n",
    "                reduced_x = x[:axis]\n",
    "                reduced_x.extend(x[axis+1:])\n",
    "                return_x.append(reduced_x)\n",
    "                return_y.append(y)\n",
    "        return return_x, return_y\n",
    "\n",
    "    def class_dict(self, Y):\n",
    "        classes = dict()\n",
    "        for y in Y:\n",
    "            if y not in classes:\n",
    "                classes[y] = 0\n",
    "            classes[y] += 1\n",
    "        return classes\n",
    "\n",
    "    def majority(self, Y):\n",
    "        from operator import itemgetter\n",
    "        # Use this function if a leaf cannot be split further and\n",
    "        # ... the node is not pure\n",
    "\n",
    "        classcount = self.class_dict(Y)\n",
    "        sorted_classcount = sorted(classcount.iteritems(), key=itemgetter(1), reverse=True)\n",
    "        return sorted_classcount[0][0]\n"
   ]
  },
  {
   "cell_type": "code",
   "execution_count": 79,
   "metadata": {},
   "outputs": [],
   "source": [
    "df = pd.read_csv('zoo.csv')\n",
    "X = df.iloc[:,1:-1]\n",
    "Y = df.iloc[:,-1]"
   ]
  },
  {
   "cell_type": "code",
   "execution_count": 80,
   "metadata": {},
   "outputs": [
    {
     "name": "stdout",
     "output_type": "stream",
     "text": [
      "{12: {0: {11: {0: {7: {0: 7, 1: 3}}, 1: {2: {0: 1, 1: 4}}}}, 2: {0: {0: 2, 1: 1}}, 4: {0: {0: {4: {0: 3, 1: {5: {0: 7, 1: 5}}}}, 1: 1}}, 5: 7, 6: {5: {0: 6, 1: 7}}, 8: 7}}\n"
     ]
    }
   ],
   "source": [
    "oop = decision_tree()\n",
    "tree = oop.fit(np.array(X).tolist(), np.array(Y).tolist(), 'g')\n",
    "print(tree)"
   ]
  },
  {
   "cell_type": "code",
   "execution_count": 81,
   "metadata": {
    "scrolled": true
   },
   "outputs": [
    {
     "name": "stdout",
     "output_type": "stream",
     "text": [
      "[1, 1, 4, 1, 1, 1, 1, 4, 4, 1, 1, 2, 4, 7, 3, 7, 2, 1, 4, 1, 2, 2, 1, 2, 6, 3, 3, 1, 1, 1, 6, 1, 1, 2, 4, 1, 1, 2, 4, 6, 6, 2, 6, 2, 1, 1, 7, 1, 1, 1, 1, 6, 3, 7, 1, 1, 2, 2, 2, 2, 4, 4, 3, 1, 1, 1, 1, 1, 1, 1, 1, 2, 7, 4, 1, 1, 3, 7, 2, 2, 3, 7, 4, 2, 1, 7, 4, 2, 6, 3, 3, 3, 4, 1, 1, 2, 1, 6, 1, 7, 2]\n"
     ]
    }
   ],
   "source": [
    "print(oop.predict(np.array(X).tolist()))"
   ]
  },
  {
   "cell_type": "code",
   "execution_count": null,
   "metadata": {
    "collapsed": true
   },
   "outputs": [],
   "source": []
  }
 ],
 "metadata": {
  "kernelspec": {
   "display_name": "Python 3",
   "language": "python",
   "name": "python3"
  },
  "language_info": {
   "codemirror_mode": {
    "name": "ipython",
    "version": 3
   },
   "file_extension": ".py",
   "mimetype": "text/x-python",
   "name": "python",
   "nbconvert_exporter": "python",
   "pygments_lexer": "ipython3",
   "version": "3.6.3"
  }
 },
 "nbformat": 4,
 "nbformat_minor": 2
}
